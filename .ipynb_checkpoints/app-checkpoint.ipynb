{
 "cells": [
  {
   "cell_type": "code",
   "execution_count": 7,
   "id": "39cfeedf-6c68-4a7e-8e57-8553fca09983",
   "metadata": {},
   "outputs": [],
   "source": [
    "import tkinter"
   ]
  },
  {
   "cell_type": "code",
   "execution_count": 8,
   "id": "e8246112-ddd6-45a9-913f-e1be52d7343c",
   "metadata": {},
   "outputs": [],
   "source": [
    "# Import your trained model\n",
    "from Flipkart import model  # Assume 'trained_model' is your model variable in model.py\n",
    "\n",
    "import pickle\n",
    "\n",
    "# Save trained model\n",
    "with open('model.pkl', 'wb') as f:\n",
    "    pickle.dump(model, f)  # 'trained_model' is your trained model object from model.py\n"
   ]
  },
  {
   "cell_type": "code",
   "execution_count": 11,
   "id": "77f804c1-e02f-4259-aec7-39aa09ec8f7d",
   "metadata": {},
   "outputs": [],
   "source": [
    "import tkinter as tk\n",
    "from tkinter import messagebox\n",
    "import pickle\n",
    "import numpy as np\n",
    "\n",
    "# Load trained model\n",
    "with open('model.pkl', 'rb') as f:\n",
    "    model = pickle.load(f)\n",
    "\n",
    "# Load the vectorizer\n",
    "with open('vectorizer.pkl', 'rb') as f:\n",
    "    vectorizer = pickle.load(f)\n",
    "\n",
    "# Define prediction logic\n",
    "def analyze_review():\n",
    "    review = review_input.get(\"1.0\", tk.END).strip()\n",
    "    rating = int(rating_var.get())\n",
    "    \n",
    "    if not review:\n",
    "        messagebox.showerror(\"Error\", \"Please enter a review statement.\")\n",
    "        return\n",
    "    \n",
    "    # Preprocess and vectorize the review\n",
    "    review_transformed = vectorizer.transform([review]).toarray()\n",
    "    \n",
    "    # Predict sentiment\n",
    "    sentiment_prediction = model.predict(review_transformed)\n",
    "    sentiment = \"Positive\" if sentiment_prediction[0] == 1 else \"Negative\"\n",
    "    \n",
    "    # Check rating relevance\n",
    "    if (sentiment == \"Positive\" and rating >= 4) or (sentiment == \"Negative\" and rating <= 2):\n",
    "        relevance = \"Aligned\"\n",
    "    else:\n",
    "        relevance = \"Not Aligned\"\n",
    "    \n",
    "    # Display result\n",
    "    result_label.config(text=f\"Sentiment: {sentiment}\\nRating Relevance: {relevance}\")\n",
    "\n",
    "# GUI Setup\n",
    "app = tk.Tk()\n",
    "app.title(\"Sentiment Analysis GUI\")\n",
    "app.geometry(\"400x300\")\n",
    "\n",
    "# Review input\n",
    "tk.Label(app, text=\"Enter Review:\").pack()\n",
    "review_input = tk.Text(app, height=5, width=40)\n",
    "review_input.pack()\n",
    "\n",
    "# Rating input\n",
    "tk.Label(app, text=\"Select Rating (1-5):\").pack()\n",
    "rating_var = tk.StringVar(value=\"3\")\n",
    "rating_menu = tk.OptionMenu(app, rating_var, *[\"1\", \"2\", \"3\", \"4\", \"5\"])\n",
    "rating_menu.pack()\n",
    "\n",
    "# Analyze Button\n",
    "analyze_button = tk.Button(app, text=\"Analyze\", command=analyze_review)\n",
    "analyze_button.pack()\n",
    "\n",
    "# Result Display\n",
    "result_label = tk.Label(app, text=\"\", font=(\"Arial\", 12))\n",
    "result_label.pack()\n",
    "\n",
    "# Run the app\n",
    "app.mainloop()\n"
   ]
  },
  {
   "cell_type": "code",
   "execution_count": null,
   "id": "2eaa0989-20be-48f5-bfdb-cb2fed4ff276",
   "metadata": {},
   "outputs": [],
   "source": []
  }
 ],
 "metadata": {
  "kernelspec": {
   "display_name": "Python 3 (ipykernel)",
   "language": "python",
   "name": "python3"
  },
  "language_info": {
   "codemirror_mode": {
    "name": "ipython",
    "version": 3
   },
   "file_extension": ".py",
   "mimetype": "text/x-python",
   "name": "python",
   "nbconvert_exporter": "python",
   "pygments_lexer": "ipython3",
   "version": "3.11.7"
  }
 },
 "nbformat": 4,
 "nbformat_minor": 5
}
